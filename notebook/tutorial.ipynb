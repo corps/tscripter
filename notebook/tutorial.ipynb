{
 "cells": [
  {
   "cell_type": "markdown",
   "metadata": {},
   "source": [
    "# Installation\n",
    "\n",
    "*  Install tscripter via npm.\n",
    "\n",
    "```\n",
    "npm install tscripter --save\n",
    "```\n",
    "\n",
    "*  You'll want to add reference to tscripter's d.ts files, as tscripter comes precompiled into plain ol' javascript.  Using a `tsconfig.json` setup, you can simply add it as a file, or include it as an ambient reference in your source.\n",
    "\n",
    "```\n",
    "{\n",
    "  files: ['./node_modules/tscripter/index.d.ts', ...]\n",
    "}\n",
    "```\n",
    "\n",
    "```\n",
    "/// <reference path=\"./node_modules/tscripter/index.d.ts\" />\n",
    "```\n",
    "\n",
    "*  In order to use `tscripter`'s .d.ts files, you'll need to reference a copy of `typescript.d.ts` to resolve the external `typescript` module declaration.  Unfortunately, due to typescript's current handling of .d.ts files and the risk of duplicate declarations, `tscripter` leaves this dependency unresolved to prevent conflicts for projects that already include the `typescript.d.ts` file.  For projects that do not already, you can include the file in your `tsconfig.json` or add as an ambient reference\n",
    "\n",
    "```\n",
    "{\n",
    "  files: ['./node_modules/tscripter/node_modules/typescript/bin/typescript.d.ts', ...]\n",
    "}\n",
    "```\n",
    "\n",
    "```\n",
    "/// <reference path=\"./node_modules/tscripter/node_modules/typescript/typescript.d.ts\" />\n",
    "```"
   ]
  },
  {
   "cell_type": "markdown",
   "metadata": {},
   "source": [
    "# Reading in existing code"
   ]
  },
  {
   "cell_type": "code",
   "execution_count": 1,
   "metadata": {
    "collapsed": false
   },
   "outputs": [
    {
     "data": {
      "text/plain": [
       "[ 'strictMode', 'AnalyzerHost', 'SourceAnalyzer' ]"
      ]
     },
     "execution_count": 1,
     "metadata": {},
     "output_type": "execute_result"
    }
   ],
   "source": [
    "var analyzer = require('tscripter').analyzer;  Object.keys(analyzer);"
   ]
  },
  {
   "cell_type": "markdown",
   "metadata": {},
   "source": [
    "To get started analyzing some existing code, we'll need to create 'host' for our language services and describe the entry point files."
   ]
  },
  {
   "cell_type": "code",
   "execution_count": 2,
   "metadata": {
    "collapsed": false
   },
   "outputs": [
    {
     "data": {
      "text/plain": [
       "[ 'analyzeAll', 'analyze', 'getAnalyzer', 'getSource' ]"
      ]
     },
     "execution_count": 2,
     "metadata": {},
     "output_type": "execute_result"
    }
   ],
   "source": [
    "host = new analyzer.AnalyzerHost([\"./node_modules/tscripter/index.d.ts\"]); Object.keys(host.__proto__);"
   ]
  },
  {
   "cell_type": "markdown",
   "metadata": {},
   "source": [
    "Now, we'll create an analyzer for our file and call it's analyze method to generate our AST."
   ]
  },
  {
   "cell_type": "code",
   "execution_count": 3,
   "metadata": {
    "collapsed": false
   },
   "outputs": [
    {
     "data": {
      "text/plain": [
       "{ constructorName: 'Source',\n",
       "  data: \n",
       "   { elements: [ [Object], [Object] ],\n",
       "     fileName: 'node_modules/tscripter/index.d.ts' } }"
      ]
     },
     "execution_count": 3,
     "metadata": {},
     "output_type": "execute_result"
    }
   ],
   "source": [
    "analyzer = host.getAnalyzer(\"./node_modules/tscripter/index.d.ts\"); indexSource = analyzer.analyze(); indexSource.toJSON();"
   ]
  },
  {
   "cell_type": "markdown",
   "metadata": {},
   "source": [
    "Check it out, we've got our first `CodeNode` representing a `Module`.  We also have access to its underlying ts.Node."
   ]
  },
  {
   "cell_type": "code",
   "execution_count": 4,
   "metadata": {
    "collapsed": false
   },
   "outputs": [
    {
     "data": {
      "text/plain": [
       "[ 'Module', 32770 ]"
      ]
     },
     "execution_count": 4,
     "metadata": {},
     "output_type": "execute_result"
    }
   ],
   "source": [
    "moduleElement = indexSource.elements[0]; [moduleElement.constructor.name, moduleElement.node.flags];"
   ]
  },
  {
   "cell_type": "markdown",
   "metadata": {},
   "source": [
    "But of course, the structured details are more useful.  Like it's name and modifiers..."
   ]
  },
  {
   "cell_type": "code",
   "execution_count": 5,
   "metadata": {
    "collapsed": false
   },
   "outputs": [
    {
     "data": {
      "text/plain": [
       "[ '\"tscripter\"', [ 'declare' ] ]"
      ]
     },
     "execution_count": 5,
     "metadata": {},
     "output_type": "execute_result"
    }
   ],
   "source": [
    "[moduleElement.name.token, moduleElement.modifiers];"
   ]
  },
  {
   "cell_type": "markdown",
   "metadata": {},
   "source": [
    "Of course, the most common task is to render a string from an element.  Let's take a peak!"
   ]
  },
  {
   "cell_type": "code",
   "execution_count": 6,
   "metadata": {
    "collapsed": false
   },
   "outputs": [
    {
     "name": "stdout",
     "output_type": "stream",
     "text": [
      "declare module \"tscripter\" {\n",
      "  export import analyzer = require(\"lib/analyzer\");\n",
      "  export import statements = require(\"lib/statements\");\n",
      "}\n"
     ]
    },
    {
     "data": {
      "text/plain": [
       "undefined"
      ]
     },
     "execution_count": 6,
     "metadata": {},
     "output_type": "execute_result"
    }
   ],
   "source": [
    "console.log(moduleElement.toString());"
   ]
  },
  {
   "cell_type": "markdown",
   "metadata": {},
   "source": [
    "We can access the child elements of the module, too.  But wait, it's empty?"
   ]
  },
  {
   "cell_type": "code",
   "execution_count": 7,
   "metadata": {
    "collapsed": false
   },
   "outputs": [
    {
     "data": {
      "text/plain": [
       "[]"
      ]
     },
     "execution_count": 7,
     "metadata": {},
     "output_type": "execute_result"
    }
   ],
   "source": [
    "moduleElement.elements"
   ]
  },
  {
   "cell_type": "markdown",
   "metadata": {},
   "source": [
    "That's because `tscripter` did not analyze the body of the module yet.  By default, any child blocks do not get analyed recursively themselves to save heavy object instantiation in large files.  We can programmatically ask the analyzer to fill out the child elements of the block."
   ]
  },
  {
   "cell_type": "code",
   "execution_count": 8,
   "metadata": {
    "collapsed": false
   },
   "outputs": [
    {
     "data": {
      "text/plain": [
       "5"
      ]
     },
     "execution_count": 8,
     "metadata": {},
     "output_type": "execute_result"
    }
   ],
   "source": [
    "analyzer.analyzeBody(moduleElement).elements.length;"
   ]
  },
  {
   "cell_type": "markdown",
   "metadata": {},
   "source": [
    "Or, if you're certain you'll need the entire file analyzed or want to simplify your process, you can recursively analyze everything from the git-go."
   ]
  },
  {
   "cell_type": "code",
   "execution_count": 9,
   "metadata": {
    "collapsed": false
   },
   "outputs": [
    {
     "data": {
      "text/plain": [
       "5"
      ]
     },
     "execution_count": 9,
     "metadata": {},
     "output_type": "execute_result"
    }
   ],
   "source": [
    "analyzer = host.getAnalyzer(indexSource.fileName, true); indexSource = analyzer.analyze(); indexSource.elements[0].elements.length;"
   ]
  },
  {
   "cell_type": "markdown",
   "metadata": {},
   "source": [
    "# Modify existing code"
   ]
  },
  {
   "cell_type": "markdown",
   "metadata": {},
   "source": [
    "Great, but reading in some code isn't that impressive.  We can do that with `fs.readFileSync`.  What about modifying the structure of the code?"
   ]
  },
  {
   "cell_type": "code",
   "execution_count": 10,
   "metadata": {
    "collapsed": false
   },
   "outputs": [
    {
     "data": {
      "text/plain": [
       "'export import analyzer = require(\"lib/analyzer\")'"
      ]
     },
     "execution_count": 10,
     "metadata": {},
     "output_type": "execute_result"
    }
   ],
   "source": [
    "moduleElement.elements[1].toString();"
   ]
  },
  {
   "cell_type": "code",
   "execution_count": 11,
   "metadata": {
    "collapsed": false
   },
   "outputs": [
    {
     "data": {
      "text/plain": [
       "[ 'node', 'importedAs', 'importPath', 'modifiers', 'text' ]"
      ]
     },
     "execution_count": 11,
     "metadata": {},
     "output_type": "execute_result"
    }
   ],
   "source": [
    "requireAnalyzer = moduleElement.elements[1]; Object.keys(requireAnalyzer)"
   ]
  },
  {
   "cell_type": "code",
   "execution_count": 12,
   "metadata": {
    "collapsed": false
   },
   "outputs": [
    {
     "data": {
      "text/plain": [
       "[ 'node', 'token', '_isIdentifier', 'text' ]"
      ]
     },
     "execution_count": 12,
     "metadata": {},
     "output_type": "execute_result"
    }
   ],
   "source": [
    "Object.keys(requireAnalyzer.importedAs);"
   ]
  },
  {
   "cell_type": "code",
   "execution_count": 13,
   "metadata": {
    "collapsed": false
   },
   "outputs": [
    {
     "data": {
      "text/plain": [
       "'export import analyzer = require(\"lib/analyzer\")'"
      ]
     },
     "execution_count": 13,
     "metadata": {},
     "output_type": "execute_result"
    }
   ],
   "source": [
    "requireAnalyzer.importedAs.token = \"hacked\";  requireAnalyzer.toString();"
   ]
  },
  {
   "cell_type": "markdown",
   "metadata": {},
   "source": [
    "What gives?  Didn't we change identifier of the require, why is it the same string as before?  That's because `tscripter` **caches the old rendering result `toString()` into the attribute `text`**.  After we make changes, we should call `markDirty` to clear the text attribute and allow toString() to build the correct result."
   ]
  },
  {
   "cell_type": "code",
   "execution_count": 14,
   "metadata": {
    "collapsed": false
   },
   "outputs": [
    {
     "name": "stdout",
     "output_type": "stream",
     "text": [
      "text was export import analyzer = require(\"lib/analyzer\")\n"
     ]
    },
    {
     "data": {
      "text/plain": [
       "'export import analyzer = require(\"lib/analyzer\")'"
      ]
     },
     "execution_count": 14,
     "metadata": {},
     "output_type": "execute_result"
    }
   ],
   "source": [
    "console.log(\"text was\", requireAnalyzer.text); requireAnalyzer.markDirty(); requireAnalyzer.toString();"
   ]
  },
  {
   "cell_type": "markdown",
   "metadata": {},
   "source": [
    "WHAT?  This isn't working!  The trick is that markDirty **only applies to the exact CodeNode being applied by default, not the parent or the children**.  Beacuse we modified the child `Identifier` object, the importedAs.token, we need to mark it dirty as well."
   ]
  },
  {
   "cell_type": "code",
   "execution_count": 15,
   "metadata": {
    "collapsed": false
   },
   "outputs": [
    {
     "data": {
      "text/plain": [
       "'export import hacked = require(\"lib/analyzer\")'"
      ]
     },
     "execution_count": 15,
     "metadata": {},
     "output_type": "execute_result"
    }
   ],
   "source": [
    "requireAnalyzer.importedAs.markDirty(); requireAnalyzer.markDirty(); requireAnalyzer.toString();"
   ]
  },
  {
   "cell_type": "markdown",
   "metadata": {},
   "source": [
    "That's alot of effort!  But there's a simpler way -- you can provide `true` as an argument to markDirty to recursively clear the rendered text cache."
   ]
  },
  {
   "cell_type": "code",
   "execution_count": 16,
   "metadata": {
    "collapsed": false
   },
   "outputs": [
    {
     "data": {
      "text/plain": [
       "'export import withrecursive = require(\"lib/analyzer\")'"
      ]
     },
     "execution_count": 16,
     "metadata": {},
     "output_type": "execute_result"
    }
   ],
   "source": [
    "requireAnalyzer.importedAs.token = \"withrecursive\";  requireAnalyzer.markDirty(true); requireAnalyzer.toString();"
   ]
  },
  {
   "cell_type": "markdown",
   "metadata": {},
   "source": [
    "As mentioned before, however, **the parent still has cached its previous rendering** as we can see below."
   ]
  },
  {
   "cell_type": "code",
   "execution_count": 17,
   "metadata": {
    "collapsed": false
   },
   "outputs": [
    {
     "name": "stdout",
     "output_type": "stream",
     "text": [
      "declare module \"tscripter\" {\n",
      "  export import analyzer = require(\"lib/analyzer\");\n",
      "  export import statements = require(\"lib/statements\");\n",
      "}\n"
     ]
    },
    {
     "data": {
      "text/plain": [
       "undefined"
      ]
     },
     "execution_count": 17,
     "metadata": {},
     "output_type": "execute_result"
    }
   ],
   "source": [
    "console.log(moduleElement.toString());"
   ]
  },
  {
   "cell_type": "markdown",
   "metadata": {},
   "source": [
    "We'll need to mark this parent as dirty in order for it to render the new child view as well."
   ]
  },
  {
   "cell_type": "code",
   "execution_count": 18,
   "metadata": {
    "collapsed": false
   },
   "outputs": [
    {
     "name": "stdout",
     "output_type": "stream",
     "text": [
      "declare module \"tscripter\" {\n",
      "  export import withrecursive = require(\"lib/analyzer\");\n",
      "  export import statements = require(\"lib/statements\");\n",
      "}\n"
     ]
    },
    {
     "data": {
      "text/plain": [
       "undefined"
      ]
     },
     "execution_count": 18,
     "metadata": {},
     "output_type": "execute_result"
    }
   ],
   "source": [
    "moduleElement.markDirty(); console.log(moduleElement.toString());"
   ]
  },
  {
   "cell_type": "markdown",
   "metadata": {},
   "source": [
    "Managing the dirty states can be tricky, and is definitely a source of improvement in coming versions of the api.  The motivation for the cached views of nodes is two fold: to prevent redundant rendering of a single CodeNode that is shared across a tree structure, and to preserve existing formatting of code that is not being rewritten.  \n",
    "\n",
    "In general, if you're not concerned with performance, you can simply apply all your modifications to the code elements structure, and call the sourceFile's markDirty(true) at the end to ensure that all child nodes will render cleanly."
   ]
  },
  {
   "cell_type": "markdown",
   "metadata": {},
   "source": [
    "# Generating new code\n",
    "\n",
    "Let's have some more fun by actually reworking the existing code some."
   ]
  },
  {
   "cell_type": "code",
   "execution_count": 19,
   "metadata": {
    "collapsed": false
   },
   "outputs": [
    {
     "data": {
      "text/plain": [
       "'AbstractBlock, AbstractCallableSignature, AbstractExpressionBlock, AbstractStatementBlock, ArrayBinding, ArrayLiteral, ArrayType, AtomicValue, BinaryOperation, BindingElement, Break, Call, CallableSignature, CallableType, Case, Class, CodeBlock, CodeNode, ComputedDeclarationName, Continue, Delete, ES6Import, ElementAccess, EmptyExpression, EnumEntry, Enumeration, ExportAssignment, ExportDeclaration, For, ForInOf, Function, Identifier, If, Index, InstanceOf, Interface, InternalModuleImport, Keyword, KeywordOperator, KeywordType, LabeledStatement, Lambda, Loop, Module, NamedImportOrExports, NamespaceBinding, New, ObjectBinding, ObjectLiteral, ObjectLiteralProperty, ParenthesizedType, Parenthetical, Property, PropertyAccess, QualifiedName, QualifiedTypeName, RegexLiteral, RequireImport, Return, SimpleImport, SimpleNode, Source, Spacing, Spread, Switch, TaggedTemplate, TemplateLiteralPiece, TemplatePattern, TernaryOperation, Throw, Try, TupleType, TypeAlias, TypeAssertion, TypeLiteral, TypeOf, TypeParameter, UnaryOperation, UnionType, VariableDeclaration, VariableDeclarationType, Void, With'"
      ]
     },
     "execution_count": 19,
     "metadata": {},
     "output_type": "execute_result"
    }
   ],
   "source": [
    "var statements = require('tscripter').statements; Object.keys(statements).sort().join(\", \");"
   ]
  },
  {
   "cell_type": "markdown",
   "metadata": {},
   "source": [
    "That's alot of constructs!  In general, however, if you're simply outputting some code based on a static template, **you can always just use the simplest construct, the `statements.CodeNode`, in conjunction with setting it's text property**.  The more complex subclasses are useful for transforming existing code, or composing complex, dynamic source together from pieces.\n",
    "\n",
    "For completeness, we'll demonstrate using the verbose class constructs to build up some source code from pieces."
   ]
  },
  {
   "cell_type": "code",
   "execution_count": 20,
   "metadata": {
    "collapsed": false
   },
   "outputs": [
    {
     "data": {
      "text/plain": [
       "'i'"
      ]
     },
     "execution_count": 20,
     "metadata": {},
     "output_type": "execute_result"
    }
   ],
   "source": [
    "var counter = new statements.Identifier(\"i\"); counter.toString()"
   ]
  },
  {
   "cell_type": "code",
   "execution_count": 21,
   "metadata": {
    "collapsed": false
   },
   "outputs": [
    {
     "data": {
      "text/plain": [
       "'var i = 0'"
      ]
     },
     "execution_count": 21,
     "metadata": {},
     "output_type": "execute_result"
    }
   ],
   "source": [
    "var initializer = statements.VariableDeclaration.forProperty(new statements.Property(counter, null, new statements.AtomicValue(0))); initializer.toString();"
   ]
  },
  {
   "cell_type": "code",
   "execution_count": 22,
   "metadata": {
    "collapsed": false
   },
   "outputs": [
    {
     "data": {
      "text/plain": [
       "'i < 10'"
      ]
     },
     "execution_count": 22,
     "metadata": {},
     "output_type": "execute_result"
    }
   ],
   "source": [
    "var predicate = new statements.BinaryOperation(\"<\", counter, new statements.AtomicValue(10)); predicate.toString();"
   ]
  },
  {
   "cell_type": "code",
   "execution_count": 23,
   "metadata": {
    "collapsed": false
   },
   "outputs": [
    {
     "data": {
      "text/plain": [
       "'++i'"
      ]
     },
     "execution_count": 23,
     "metadata": {},
     "output_type": "execute_result"
    }
   ],
   "source": [
    "var iterator = new statements.UnaryOperation(\"++\", counter); iterator.toString();"
   ]
  },
  {
   "cell_type": "code",
   "execution_count": 24,
   "metadata": {
    "collapsed": false
   },
   "outputs": [
    {
     "data": {
      "text/plain": [
       "'for (var i = 0; i < 10; ++i) '"
      ]
     },
     "execution_count": 24,
     "metadata": {},
     "output_type": "execute_result"
    }
   ],
   "source": [
    "var forLoop = new statements.For(initializer, predicate, iterator); forLoop.toString();"
   ]
  },
  {
   "cell_type": "markdown",
   "metadata": {},
   "source": [
    "We've got the Loop created, but we need to add a more complete body.  Because for loops technically only support single statement bodies, we'll need to supply it with an explicit statements.CodeBlock containing our loop's body.  Other block constructs, however, like the moduleElement from before, will have their bodies attached as the member \"elements\" more conveniently."
   ]
  },
  {
   "cell_type": "code",
   "execution_count": 25,
   "metadata": {
    "collapsed": false
   },
   "outputs": [
    {
     "data": {
      "text/plain": [
       "'for (var i = 0; i < 10; ++i) {}'"
      ]
     },
     "execution_count": 25,
     "metadata": {},
     "output_type": "execute_result"
    }
   ],
   "source": [
    "forLoop.body = new statements.CodeBlock(); forLoop.markDirty(); forLoop.toString();"
   ]
  },
  {
   "cell_type": "markdown",
   "metadata": {},
   "source": [
    "Cool, our loop now as a block body, let's just shove some of our existing code into for the fun of it!"
   ]
  },
  {
   "cell_type": "code",
   "execution_count": 26,
   "metadata": {
    "collapsed": false
   },
   "outputs": [
    {
     "name": "stdout",
     "output_type": "stream",
     "text": [
      "for (var i = 0; i < 10; ++i) {\n",
      "  export import withrecursive = require(\"lib/analyzer\");\n",
      "  export import statements = require(\"lib/statements\");\n",
      "}\n"
     ]
    },
    {
     "data": {
      "text/plain": [
       "undefined"
      ]
     },
     "execution_count": 26,
     "metadata": {},
     "output_type": "execute_result"
    }
   ],
   "source": [
    "forLoop.body.elements = moduleElement.elements;  forLoop.markDirty(true); console.log(forLoop.toString());"
   ]
  },
  {
   "cell_type": "markdown",
   "metadata": {},
   "source": [
    "Hahaha, ok, that's kinda silly.  Let's try replacing our moduleElement's body now with this forloop!"
   ]
  },
  {
   "cell_type": "code",
   "execution_count": 27,
   "metadata": {
    "collapsed": false
   },
   "outputs": [
    {
     "name": "stdout",
     "output_type": "stream",
     "text": [
      "declare module \"tscripter\" {for (var i = 0; i < 10; ++i) {\n",
      "  export import withrecursive = require(\"lib/analyzer\");\n",
      "  export import statements = require(\"lib/statements\");\n",
      "}}\n"
     ]
    },
    {
     "data": {
      "text/plain": [
       "undefined"
      ]
     },
     "execution_count": 27,
     "metadata": {},
     "output_type": "execute_result"
    }
   ],
   "source": [
    "moduleElement.elements = [forLoop]; moduleElement.markDirty(); console.log(moduleElement.toString());"
   ]
  },
  {
   "cell_type": "markdown",
   "metadata": {},
   "source": [
    "Womp womp.  We've got some formatting issues.  There are two approaches to solving this problem.  The first, **is to simply apply an outside formatter to your generated code**.  It's hard to get generated code to be styled correctly with a lot of manual effort, so if you've hook up to some other tool to add the newlines and indentions for you, that's probably preferred.  That said, of course, it's always nice when you can just generate nice looking code.  So let's do that.\n",
    "\n",
    "The `statements.CodeNode` subclass we're interested in is `statements.Trivia`.  `tscripter` puts all trivia, including comments, inside `statements.Trivia` objects from the original source code into our analyzed blocks.  We can modify the existing ones and add a few ones of our own to get the formatting we're looking for."
   ]
  },
  {
   "cell_type": "code",
   "execution_count": 28,
   "metadata": {
    "collapsed": false
   },
   "outputs": [
    {
     "ename": "TypeError",
     "evalue": "undefined is not a function",
     "output_type": "error",
     "traceback": [
      "TypeError: undefined is not a function",
      "    at evalmachine.<anonymous>:1:66",
      "    at Array.map (native)",
      "    at evalmachine.<anonymous>:1:37",
      "    at run ([eval]:179:19)",
      "    at onMessage ([eval]:63:41)",
      "    at process.emit (events.js:98:17)",
      "    at handleMessage (child_process.js:322:10)",
      "    at Pipe.channel.onread (child_process.js:349:11)"
     ]
    }
   ],
   "source": [
    "var indentions = [\"\", \"  \", \"    \"].map(function(level) { return new statements.Trivia(\"\\n\" + level); });"
   ]
  },
  {
   "cell_type": "code",
   "execution_count": 29,
   "metadata": {
    "collapsed": false
   },
   "outputs": [
    {
     "ename": "TypeError",
     "evalue": "Cannot read property '1' of undefined",
     "output_type": "error",
     "traceback": [
      "TypeError: Cannot read property '1' of undefined",
      "    at evalmachine.<anonymous>:1:42",
      "    at run ([eval]:179:19)",
      "    at onMessage ([eval]:63:41)",
      "    at process.emit (events.js:98:17)",
      "    at handleMessage (child_process.js:322:10)",
      "    at Pipe.channel.onread (child_process.js:349:11)"
     ]
    }
   ],
   "source": [
    "moduleElement.elements.unshift(indentions[1]); moduleElement.elements.push(indentions[0]);"
   ]
  },
  {
   "cell_type": "code",
   "execution_count": 30,
   "metadata": {
    "collapsed": false
   },
   "outputs": [
    {
     "name": "stdout",
     "output_type": "stream",
     "text": [
      "declare module \"tscripter\" {for (var i = 0; i < 10; ++i) {\n",
      "  export import withrecursive = require(\"lib/analyzer\");\n",
      "  export import statements = require(\"lib/statements\");\n",
      "}}\n"
     ]
    },
    {
     "data": {
      "text/plain": [
       "undefined"
      ]
     },
     "execution_count": 30,
     "metadata": {},
     "output_type": "execute_result"
    }
   ],
   "source": [
    "moduleElement.markDirty(true); console.log(moduleElement.toString());"
   ]
  },
  {
   "cell_type": "markdown",
   "metadata": {},
   "source": [
    "Looks like we still have to shift the for loop over by an indention level.  Hmm..."
   ]
  },
  {
   "cell_type": "code",
   "execution_count": 31,
   "metadata": {
    "collapsed": false
   },
   "outputs": [
    {
     "name": "stdout",
     "output_type": "stream",
     "text": [
      "declare module \"tscripter\" {for (var i = 0; i < 10; ++i) {\n",
      "    export import withrecursive = require(\"lib/analyzer\");\n",
      "    export import statements = require(\"lib/statements\");\n",
      "  }}\n"
     ]
    },
    {
     "data": {
      "text/plain": [
       "undefined"
      ]
     },
     "execution_count": 31,
     "metadata": {},
     "output_type": "execute_result"
    }
   ],
   "source": [
    "forLoop.body.elements.forEach(function(e) { e.token += \"  \"; }); moduleElement.markDirty(true);  console.log(moduleElement.toString());"
   ]
  },
  {
   "cell_type": "markdown",
   "metadata": {},
   "source": [
    "And that covers basic usage of `tscripter`.  Feel free to pose additional questions / issues found to https://github.com/corps/tscripter/issues"
   ]
  }
 ],
 "metadata": {
  "kernelspec": {
   "display_name": "Javascript (Node.js)",
   "language": "javascript",
   "name": "javascript"
  },
  "language_info": {
   "file_extension": "js",
   "mimetype": "application/javascript",
   "name": "javascript",
   "version": "0.10.32"
  }
 },
 "nbformat": 4,
 "nbformat_minor": 0
}
